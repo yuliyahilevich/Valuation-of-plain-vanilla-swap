{
 "cells": [
  {
   "cell_type": "markdown",
   "id": "44cd8fb7",
   "metadata": {
    "toc": true
   },
   "source": [
    "<h1>Table of Contents<span class=\"tocSkip\"></span></h1>\n",
    "<div class=\"toc\"><ul class=\"toc-item\"></ul></div>"
   ]
  },
  {
   "cell_type": "code",
   "execution_count": 1,
   "id": "5ae8f698",
   "metadata": {},
   "outputs": [],
   "source": [
    "import pandas as pd\n",
    "import numpy as np\n",
    "import math\n",
    "import warnings\n",
    "warnings.filterwarnings('ignore')"
   ]
  },
  {
   "cell_type": "code",
   "execution_count": 2,
   "id": "f5fbdab5",
   "metadata": {},
   "outputs": [],
   "source": [
    "#Given values\n",
    "frequency = 2\n",
    "nominal = 1000000\n",
    "fixed_rate = 0.05"
   ]
  },
  {
   "cell_type": "code",
   "execution_count": 3,
   "id": "79511517",
   "metadata": {},
   "outputs": [
    {
     "data": {
      "text/html": [
       "<div>\n",
       "<style scoped>\n",
       "    .dataframe tbody tr th:only-of-type {\n",
       "        vertical-align: middle;\n",
       "    }\n",
       "\n",
       "    .dataframe tbody tr th {\n",
       "        vertical-align: top;\n",
       "    }\n",
       "\n",
       "    .dataframe thead th {\n",
       "        text-align: right;\n",
       "    }\n",
       "</style>\n",
       "<table border=\"1\" class=\"dataframe\">\n",
       "  <thead>\n",
       "    <tr style=\"text-align: right;\">\n",
       "      <th></th>\n",
       "      <th>Tenor</th>\n",
       "      <th>Rate</th>\n",
       "    </tr>\n",
       "  </thead>\n",
       "  <tbody>\n",
       "    <tr>\n",
       "      <th>0</th>\n",
       "      <td>6 Mo</td>\n",
       "      <td>0.16</td>\n",
       "    </tr>\n",
       "    <tr>\n",
       "      <th>1</th>\n",
       "      <td>1 Yr</td>\n",
       "      <td>0.27</td>\n",
       "    </tr>\n",
       "    <tr>\n",
       "      <th>2</th>\n",
       "      <td>2 Yr</td>\n",
       "      <td>0.65</td>\n",
       "    </tr>\n",
       "    <tr>\n",
       "      <th>3</th>\n",
       "      <td>3 Yr</td>\n",
       "      <td>0.91</td>\n",
       "    </tr>\n",
       "    <tr>\n",
       "      <th>4</th>\n",
       "      <td>5 Yr</td>\n",
       "      <td>1.17</td>\n",
       "    </tr>\n",
       "    <tr>\n",
       "      <th>5</th>\n",
       "      <td>7 Yr</td>\n",
       "      <td>1.34</td>\n",
       "    </tr>\n",
       "    <tr>\n",
       "      <th>6</th>\n",
       "      <td>10 Yr</td>\n",
       "      <td>1.43</td>\n",
       "    </tr>\n",
       "    <tr>\n",
       "      <th>7</th>\n",
       "      <td>20 Yr</td>\n",
       "      <td>1.90</td>\n",
       "    </tr>\n",
       "    <tr>\n",
       "      <th>8</th>\n",
       "      <td>30 Yr</td>\n",
       "      <td>1.85</td>\n",
       "    </tr>\n",
       "  </tbody>\n",
       "</table>\n",
       "</div>"
      ],
      "text/plain": [
       "   Tenor  Rate\n",
       "0   6 Mo  0.16\n",
       "1   1 Yr  0.27\n",
       "2   2 Yr  0.65\n",
       "3   3 Yr  0.91\n",
       "4   5 Yr  1.17\n",
       "5   7 Yr  1.34\n",
       "6  10 Yr  1.43\n",
       "7  20 Yr  1.90\n",
       "8  30 Yr  1.85"
      ]
     },
     "execution_count": 3,
     "metadata": {},
     "output_type": "execute_result"
    }
   ],
   "source": [
    "df = pd.read_excel('/Users/yuliyahilevich/Desktop/Finance/Tresuary.xlsx')\n",
    "df.head(20)"
   ]
  },
  {
   "cell_type": "code",
   "execution_count": 4,
   "id": "cae4abf2",
   "metadata": {},
   "outputs": [
    {
     "data": {
      "text/plain": [
       "<AxesSubplot:>"
      ]
     },
     "execution_count": 4,
     "metadata": {},
     "output_type": "execute_result"
    },
    {
     "data": {
      "image/png": "[encoded data removed]",
      "text/plain": [
       "<Figure size 720x432 with 1 Axes>"
      ]
     },
     "metadata": {
      "needs_background": "light"
     },
     "output_type": "display_data"
    }
   ],
   "source": [
    "df.iloc[:, -1].plot(figsize=(10, 6))"
   ]
  },
  {
   "cell_type": "code",
   "execution_count": 5,
   "id": "8595b213",
   "metadata": {},
   "outputs": [
    {
     "data": {
      "text/html": [
       "<div>\n",
       "<style scoped>\n",
       "    .dataframe tbody tr th:only-of-type {\n",
       "        vertical-align: middle;\n",
       "    }\n",
       "\n",
       "    .dataframe tbody tr th {\n",
       "        vertical-align: top;\n",
       "    }\n",
       "\n",
       "    .dataframe thead th {\n",
       "        text-align: right;\n",
       "    }\n",
       "</style>\n",
       "<table border=\"1\" class=\"dataframe\">\n",
       "  <thead>\n",
       "    <tr style=\"text-align: right;\">\n",
       "      <th></th>\n",
       "      <th>Tenor</th>\n",
       "      <th>Rate</th>\n",
       "    </tr>\n",
       "  </thead>\n",
       "  <tbody>\n",
       "    <tr>\n",
       "      <th>0</th>\n",
       "      <td>0.5</td>\n",
       "      <td>0.16</td>\n",
       "    </tr>\n",
       "    <tr>\n",
       "      <th>1</th>\n",
       "      <td>1</td>\n",
       "      <td>0.27</td>\n",
       "    </tr>\n",
       "    <tr>\n",
       "      <th>2</th>\n",
       "      <td>2</td>\n",
       "      <td>0.65</td>\n",
       "    </tr>\n",
       "    <tr>\n",
       "      <th>3</th>\n",
       "      <td>3</td>\n",
       "      <td>0.91</td>\n",
       "    </tr>\n",
       "    <tr>\n",
       "      <th>4</th>\n",
       "      <td>5</td>\n",
       "      <td>1.17</td>\n",
       "    </tr>\n",
       "    <tr>\n",
       "      <th>5</th>\n",
       "      <td>7</td>\n",
       "      <td>1.34</td>\n",
       "    </tr>\n",
       "    <tr>\n",
       "      <th>6</th>\n",
       "      <td>10</td>\n",
       "      <td>1.43</td>\n",
       "    </tr>\n",
       "    <tr>\n",
       "      <th>7</th>\n",
       "      <td>20</td>\n",
       "      <td>1.90</td>\n",
       "    </tr>\n",
       "    <tr>\n",
       "      <th>8</th>\n",
       "      <td>30</td>\n",
       "      <td>1.85</td>\n",
       "    </tr>\n",
       "  </tbody>\n",
       "</table>\n",
       "</div>"
      ],
      "text/plain": [
       "  Tenor  Rate\n",
       "0   0.5  0.16\n",
       "1    1   0.27\n",
       "2    2   0.65\n",
       "3    3   0.91\n",
       "4    5   1.17\n",
       "5    7   1.34\n",
       "6   10   1.43\n",
       "7   20   1.90\n",
       "8   30   1.85"
      ]
     },
     "execution_count": 5,
     "metadata": {},
     "output_type": "execute_result"
    }
   ],
   "source": [
    "df['Tenor'] = df['Tenor'].str.replace('Yr', '')\n",
    "df['Tenor'] = df['Tenor'].str.replace('6 Mo', '0.5')\n",
    "df = pd.DataFrame(df)\n",
    "df"
   ]
  },
  {
   "cell_type": "code",
   "execution_count": 6,
   "id": "60c0d463",
   "metadata": {},
   "outputs": [
    {
     "data": {
      "text/plain": [
       "array([0.16  , 0.27  , 0.46  , 0.65  , 0.78  , 0.91  , 0.975 , 1.04  ,\n",
       "       1.105 , 1.17  , 1.2125, 1.255 , 1.2975, 1.34  , 1.355 , 1.37  ,\n",
       "       1.385 , 1.4   , 1.415 , 1.43  , 1.4535, 1.477 , 1.5005, 1.524 ,\n",
       "       1.5475, 1.571 , 1.5945, 1.618 , 1.6415, 1.665 , 1.6885, 1.712 ,\n",
       "       1.7355, 1.759 , 1.7825, 1.806 , 1.8295, 1.853 , 1.8765, 1.9   ,\n",
       "       1.8975, 1.895 , 1.8925, 1.89  , 1.8875, 1.885 , 1.8825, 1.88  ,\n",
       "       1.8775, 1.875 , 1.8725, 1.87  , 1.8675, 1.865 , 1.8625, 1.86  ,\n",
       "       1.8575, 1.855 , 1.8525, 1.85  ])"
      ]
     },
     "execution_count": 6,
     "metadata": {},
     "output_type": "execute_result"
    }
   ],
   "source": [
    "Tenor = np.arange(0.5, 30.5, 0.5).tolist()\n",
    "tenor = [0.5,1,2,3,5,7,10,20,30]\n",
    "rates = [0.16,0.27,0.65,0.91,1.17,1.34,1.43,1.9,1.85]\n",
    "\n",
    "r_linear = np.interp(Tenor, tenor, rates)\n",
    "r_linear"
   ]
  },
  {
   "cell_type": "code",
   "execution_count": 7,
   "id": "25508c11",
   "metadata": {},
   "outputs": [],
   "source": [
    "df = pd.DataFrame({'Tenor':Tenor, 'Rate':r_linear})"
   ]
  },
  {
   "cell_type": "code",
   "execution_count": 8,
   "id": "912330b1",
   "metadata": {},
   "outputs": [
    {
     "data": {
      "text/html": [
       "<div>\n",
       "<style scoped>\n",
       "    .dataframe tbody tr th:only-of-type {\n",
       "        vertical-align: middle;\n",
       "    }\n",
       "\n",
       "    .dataframe tbody tr th {\n",
       "        vertical-align: top;\n",
       "    }\n",
       "\n",
       "    .dataframe thead th {\n",
       "        text-align: right;\n",
       "    }\n",
       "</style>\n",
       "<table border=\"1\" class=\"dataframe\">\n",
       "  <thead>\n",
       "    <tr style=\"text-align: right;\">\n",
       "      <th></th>\n",
       "      <th>Period</th>\n",
       "      <th>Tenor</th>\n",
       "      <th>Rate</th>\n",
       "    </tr>\n",
       "  </thead>\n",
       "  <tbody>\n",
       "    <tr>\n",
       "      <th>0</th>\n",
       "      <td>1</td>\n",
       "      <td>0.5</td>\n",
       "      <td>0.16</td>\n",
       "    </tr>\n",
       "    <tr>\n",
       "      <th>1</th>\n",
       "      <td>2</td>\n",
       "      <td>1.0</td>\n",
       "      <td>0.27</td>\n",
       "    </tr>\n",
       "    <tr>\n",
       "      <th>2</th>\n",
       "      <td>3</td>\n",
       "      <td>1.5</td>\n",
       "      <td>0.46</td>\n",
       "    </tr>\n",
       "    <tr>\n",
       "      <th>3</th>\n",
       "      <td>4</td>\n",
       "      <td>2.0</td>\n",
       "      <td>0.65</td>\n",
       "    </tr>\n",
       "    <tr>\n",
       "      <th>4</th>\n",
       "      <td>5</td>\n",
       "      <td>2.5</td>\n",
       "      <td>0.78</td>\n",
       "    </tr>\n",
       "  </tbody>\n",
       "</table>\n",
       "</div>"
      ],
      "text/plain": [
       "   Period  Tenor  Rate\n",
       "0       1    0.5  0.16\n",
       "1       2    1.0  0.27\n",
       "2       3    1.5  0.46\n",
       "3       4    2.0  0.65\n",
       "4       5    2.5  0.78"
      ]
     },
     "execution_count": 8,
     "metadata": {},
     "output_type": "execute_result"
    }
   ],
   "source": [
    "#Creating DF with n. of periods 'future cashflows'\n",
    "df.insert(0, 'Period', range(1, 1 + len(df)))\n",
    "df.head(5)"
   ]
  },
  {
   "cell_type": "code",
   "execution_count": 9,
   "id": "7110cb5f",
   "metadata": {},
   "outputs": [],
   "source": [
    "#Turning our rates in %\n",
    "df['Rate']=[rate/100 for rate in df['Rate']]"
   ]
  },
  {
   "cell_type": "code",
   "execution_count": 10,
   "id": "6e79ff5f",
   "metadata": {},
   "outputs": [
    {
     "data": {
      "text/html": [
       "<div>\n",
       "<style scoped>\n",
       "    .dataframe tbody tr th:only-of-type {\n",
       "        vertical-align: middle;\n",
       "    }\n",
       "\n",
       "    .dataframe tbody tr th {\n",
       "        vertical-align: top;\n",
       "    }\n",
       "\n",
       "    .dataframe thead th {\n",
       "        text-align: right;\n",
       "    }\n",
       "</style>\n",
       "<table border=\"1\" class=\"dataframe\">\n",
       "  <thead>\n",
       "    <tr style=\"text-align: right;\">\n",
       "      <th></th>\n",
       "      <th>Period</th>\n",
       "      <th>Tenor</th>\n",
       "      <th>Rate</th>\n",
       "      <th>Discount factor</th>\n",
       "    </tr>\n",
       "  </thead>\n",
       "  <tbody>\n",
       "    <tr>\n",
       "      <th>0</th>\n",
       "      <td>1</td>\n",
       "      <td>0.5</td>\n",
       "      <td>0.0016</td>\n",
       "      <td>0.999201</td>\n",
       "    </tr>\n",
       "    <tr>\n",
       "      <th>1</th>\n",
       "      <td>2</td>\n",
       "      <td>1.0</td>\n",
       "      <td>0.0027</td>\n",
       "      <td>0.997305</td>\n",
       "    </tr>\n",
       "    <tr>\n",
       "      <th>2</th>\n",
       "      <td>3</td>\n",
       "      <td>1.5</td>\n",
       "      <td>0.0046</td>\n",
       "      <td>0.993132</td>\n",
       "    </tr>\n",
       "    <tr>\n",
       "      <th>3</th>\n",
       "      <td>4</td>\n",
       "      <td>2.0</td>\n",
       "      <td>0.0065</td>\n",
       "      <td>0.987105</td>\n",
       "    </tr>\n",
       "    <tr>\n",
       "      <th>4</th>\n",
       "      <td>5</td>\n",
       "      <td>2.5</td>\n",
       "      <td>0.0078</td>\n",
       "      <td>0.980726</td>\n",
       "    </tr>\n",
       "  </tbody>\n",
       "</table>\n",
       "</div>"
      ],
      "text/plain": [
       "   Period  Tenor    Rate  Discount factor\n",
       "0       1    0.5  0.0016         0.999201\n",
       "1       2    1.0  0.0027         0.997305\n",
       "2       3    1.5  0.0046         0.993132\n",
       "3       4    2.0  0.0065         0.987105\n",
       "4       5    2.5  0.0078         0.980726"
      ]
     },
     "execution_count": 10,
     "metadata": {},
     "output_type": "execute_result"
    }
   ],
   "source": [
    "# Lets calculate discount factor \n",
    "df['Discount factor'] = 1 / (1 + df['Rate']/2)**df['Period']\n",
    "df.head(5)"
   ]
  },
  {
   "cell_type": "code",
   "execution_count": 11,
   "id": "d3b74e5a",
   "metadata": {},
   "outputs": [
    {
     "data": {
      "text/html": [
       "<div>\n",
       "<style scoped>\n",
       "    .dataframe tbody tr th:only-of-type {\n",
       "        vertical-align: middle;\n",
       "    }\n",
       "\n",
       "    .dataframe tbody tr th {\n",
       "        vertical-align: top;\n",
       "    }\n",
       "\n",
       "    .dataframe thead th {\n",
       "        text-align: right;\n",
       "    }\n",
       "</style>\n",
       "<table border=\"1\" class=\"dataframe\">\n",
       "  <thead>\n",
       "    <tr style=\"text-align: right;\">\n",
       "      <th></th>\n",
       "      <th>Period</th>\n",
       "      <th>Tenor</th>\n",
       "      <th>Rate</th>\n",
       "      <th>Discount factor</th>\n",
       "      <th>Fixed CF_FV</th>\n",
       "    </tr>\n",
       "  </thead>\n",
       "  <tbody>\n",
       "    <tr>\n",
       "      <th>0</th>\n",
       "      <td>1</td>\n",
       "      <td>0.5</td>\n",
       "      <td>0.0016</td>\n",
       "      <td>0.999201</td>\n",
       "      <td>25000.0</td>\n",
       "    </tr>\n",
       "    <tr>\n",
       "      <th>1</th>\n",
       "      <td>2</td>\n",
       "      <td>1.0</td>\n",
       "      <td>0.0027</td>\n",
       "      <td>0.997305</td>\n",
       "      <td>25000.0</td>\n",
       "    </tr>\n",
       "    <tr>\n",
       "      <th>2</th>\n",
       "      <td>3</td>\n",
       "      <td>1.5</td>\n",
       "      <td>0.0046</td>\n",
       "      <td>0.993132</td>\n",
       "      <td>25000.0</td>\n",
       "    </tr>\n",
       "    <tr>\n",
       "      <th>3</th>\n",
       "      <td>4</td>\n",
       "      <td>2.0</td>\n",
       "      <td>0.0065</td>\n",
       "      <td>0.987105</td>\n",
       "      <td>25000.0</td>\n",
       "    </tr>\n",
       "    <tr>\n",
       "      <th>4</th>\n",
       "      <td>5</td>\n",
       "      <td>2.5</td>\n",
       "      <td>0.0078</td>\n",
       "      <td>0.980726</td>\n",
       "      <td>25000.0</td>\n",
       "    </tr>\n",
       "  </tbody>\n",
       "</table>\n",
       "</div>"
      ],
      "text/plain": [
       "   Period  Tenor    Rate  Discount factor  Fixed CF_FV\n",
       "0       1    0.5  0.0016         0.999201      25000.0\n",
       "1       2    1.0  0.0027         0.997305      25000.0\n",
       "2       3    1.5  0.0046         0.993132      25000.0\n",
       "3       4    2.0  0.0065         0.987105      25000.0\n",
       "4       5    2.5  0.0078         0.980726      25000.0"
      ]
     },
     "execution_count": 11,
     "metadata": {},
     "output_type": "execute_result"
    }
   ],
   "source": [
    "#Calculating future cashflows on fixed leg\n",
    "df['Fixed CF_FV'] = nominal*fixed_rate/frequency\n",
    "df.head(5)"
   ]
  },
  {
   "cell_type": "code",
   "execution_count": 12,
   "id": "0416fe53",
   "metadata": {},
   "outputs": [
    {
     "data": {
      "text/plain": [
       "\"def cash_flows(Period):\\n    cf = []\\n    for i in Period:\\n        cf.append(nominal*fixed_rate/frequency)\\n    return cf\\n\\ndf['DF'] = cash_flows(df['Period'])\\ndf.head()\""
      ]
     },
     "execution_count": 12,
     "metadata": {},
     "output_type": "execute_result"
    }
   ],
   "source": [
    "#As an option\n",
    "'''def cash_flows(Period):\n",
    "    cf = []\n",
    "    for i in Period:\n",
    "        cf.append(nominal*fixed_rate/frequency)\n",
    "    return cf\n",
    "\n",
    "df['DF'] = cash_flows(df['Period'])\n",
    "df.head()'''"
   ]
  },
  {
   "cell_type": "code",
   "execution_count": 13,
   "id": "dc319b94",
   "metadata": {},
   "outputs": [],
   "source": [
    "#Applyin discounf factor to founf out the present value of the future cashflows\n",
    "df['Fixed CF_PV'] = df['Fixed CF_FV']*df['Discount factor']"
   ]
  },
  {
   "cell_type": "code",
   "execution_count": 14,
   "id": "54a0a97e",
   "metadata": {},
   "outputs": [
    {
     "data": {
      "text/html": [
       "<div>\n",
       "<style scoped>\n",
       "    .dataframe tbody tr th:only-of-type {\n",
       "        vertical-align: middle;\n",
       "    }\n",
       "\n",
       "    .dataframe tbody tr th {\n",
       "        vertical-align: top;\n",
       "    }\n",
       "\n",
       "    .dataframe thead th {\n",
       "        text-align: right;\n",
       "    }\n",
       "</style>\n",
       "<table border=\"1\" class=\"dataframe\">\n",
       "  <thead>\n",
       "    <tr style=\"text-align: right;\">\n",
       "      <th></th>\n",
       "      <th>Period</th>\n",
       "      <th>Tenor</th>\n",
       "      <th>Rate</th>\n",
       "      <th>Discount factor</th>\n",
       "      <th>Fixed CF_FV</th>\n",
       "      <th>Fixed CF_PV</th>\n",
       "      <th>Rate_Shift</th>\n",
       "      <th>Forward Rate</th>\n",
       "    </tr>\n",
       "  </thead>\n",
       "  <tbody>\n",
       "    <tr>\n",
       "      <th>0</th>\n",
       "      <td>1</td>\n",
       "      <td>0.5</td>\n",
       "      <td>0.0016</td>\n",
       "      <td>0.999201</td>\n",
       "      <td>25000.0</td>\n",
       "      <td>24980.015987</td>\n",
       "      <td>0.0000</td>\n",
       "      <td>0.001600</td>\n",
       "    </tr>\n",
       "    <tr>\n",
       "      <th>1</th>\n",
       "      <td>2</td>\n",
       "      <td>1.0</td>\n",
       "      <td>0.0027</td>\n",
       "      <td>0.997305</td>\n",
       "      <td>25000.0</td>\n",
       "      <td>24932.636442</td>\n",
       "      <td>0.0016</td>\n",
       "      <td>0.003801</td>\n",
       "    </tr>\n",
       "    <tr>\n",
       "      <th>2</th>\n",
       "      <td>3</td>\n",
       "      <td>1.5</td>\n",
       "      <td>0.0046</td>\n",
       "      <td>0.993132</td>\n",
       "      <td>25000.0</td>\n",
       "      <td>24828.290469</td>\n",
       "      <td>0.0027</td>\n",
       "      <td>0.008411</td>\n",
       "    </tr>\n",
       "    <tr>\n",
       "      <th>3</th>\n",
       "      <td>4</td>\n",
       "      <td>2.0</td>\n",
       "      <td>0.0065</td>\n",
       "      <td>0.987105</td>\n",
       "      <td>25000.0</td>\n",
       "      <td>24677.623558</td>\n",
       "      <td>0.0046</td>\n",
       "      <td>0.012222</td>\n",
       "    </tr>\n",
       "    <tr>\n",
       "      <th>4</th>\n",
       "      <td>5</td>\n",
       "      <td>2.5</td>\n",
       "      <td>0.0078</td>\n",
       "      <td>0.980726</td>\n",
       "      <td>25000.0</td>\n",
       "      <td>24518.152248</td>\n",
       "      <td>0.0065</td>\n",
       "      <td>0.013017</td>\n",
       "    </tr>\n",
       "  </tbody>\n",
       "</table>\n",
       "</div>"
      ],
      "text/plain": [
       "   Period  Tenor    Rate  Discount factor  Fixed CF_FV   Fixed CF_PV  \\\n",
       "0       1    0.5  0.0016         0.999201      25000.0  24980.015987   \n",
       "1       2    1.0  0.0027         0.997305      25000.0  24932.636442   \n",
       "2       3    1.5  0.0046         0.993132      25000.0  24828.290469   \n",
       "3       4    2.0  0.0065         0.987105      25000.0  24677.623558   \n",
       "4       5    2.5  0.0078         0.980726      25000.0  24518.152248   \n",
       "\n",
       "   Rate_Shift  Forward Rate  \n",
       "0      0.0000      0.001600  \n",
       "1      0.0016      0.003801  \n",
       "2      0.0027      0.008411  \n",
       "3      0.0046      0.012222  \n",
       "4      0.0065      0.013017  "
      ]
     },
     "execution_count": 14,
     "metadata": {},
     "output_type": "execute_result"
    }
   ],
   "source": [
    "# Lets shift Discount factor for simplicity of calculation of forward rate\n",
    "df[\"Rate_Shift\"] = df[\"Rate\"].shift(1, fill_value=0)\n",
    "df['Forward Rate'] = (((1 + df[\"Rate\"]) ** df[\"Period\"]) / \n",
    "                       ((1 + df[\"Rate_Shift\"]) ** (df[\"Period\"] - 1))-1)\n",
    "\n",
    "df.head(5)"
   ]
  },
  {
   "cell_type": "code",
   "execution_count": 15,
   "id": "757a7614",
   "metadata": {},
   "outputs": [
    {
     "data": {
      "text/plain": [
       "'df[\\'DF_Shift\\'] = df[\\'Discount factor\\'].shift(1, fill_value=0)\\ndf[\"FR\"] = (df[\\'DF_Shift\\']/ df[\\'Discount factor\\'] - 1)*2\\ndf.head(5)'"
      ]
     },
     "execution_count": 15,
     "metadata": {},
     "output_type": "execute_result"
    }
   ],
   "source": [
    "#The typic formula for Forward rate but i came across some of the issue with final value\n",
    "'''df['DF_Shift'] = df['Discount factor'].shift(1, fill_value=0)\n",
    "df[\"FR\"] = (df['DF_Shift']/ df['Discount factor'] - 1)*2\n",
    "df.head(5)'''"
   ]
  },
  {
   "cell_type": "code",
   "execution_count": 19,
   "id": "0852f678",
   "metadata": {},
   "outputs": [
    {
     "data": {
      "text/html": [
       "<div>\n",
       "<style scoped>\n",
       "    .dataframe tbody tr th:only-of-type {\n",
       "        vertical-align: middle;\n",
       "    }\n",
       "\n",
       "    .dataframe tbody tr th {\n",
       "        vertical-align: top;\n",
       "    }\n",
       "\n",
       "    .dataframe thead th {\n",
       "        text-align: right;\n",
       "    }\n",
       "</style>\n",
       "<table border=\"1\" class=\"dataframe\">\n",
       "  <thead>\n",
       "    <tr style=\"text-align: right;\">\n",
       "      <th></th>\n",
       "      <th>Period</th>\n",
       "      <th>Tenor</th>\n",
       "      <th>Rate</th>\n",
       "      <th>Discount factor</th>\n",
       "      <th>Fixed CF_FV</th>\n",
       "      <th>Fixed CF_PV</th>\n",
       "      <th>Rate_Shift</th>\n",
       "      <th>Forward Rate</th>\n",
       "      <th>Floating CF_PV</th>\n",
       "    </tr>\n",
       "  </thead>\n",
       "  <tbody>\n",
       "    <tr>\n",
       "      <th>55</th>\n",
       "      <td>56</td>\n",
       "      <td>28.0</td>\n",
       "      <td>0.018600</td>\n",
       "      <td>0.595477</td>\n",
       "      <td>25000.0</td>\n",
       "      <td>14886.914925</td>\n",
       "      <td>0.018625</td>\n",
       "      <td>0.017226</td>\n",
       "      <td>5128.823401</td>\n",
       "    </tr>\n",
       "    <tr>\n",
       "      <th>56</th>\n",
       "      <td>57</td>\n",
       "      <td>28.5</td>\n",
       "      <td>0.018575</td>\n",
       "      <td>0.590406</td>\n",
       "      <td>25000.0</td>\n",
       "      <td>14760.158418</td>\n",
       "      <td>0.018600</td>\n",
       "      <td>0.017176</td>\n",
       "      <td>5070.403375</td>\n",
       "    </tr>\n",
       "    <tr>\n",
       "      <th>57</th>\n",
       "      <td>58</td>\n",
       "      <td>29.0</td>\n",
       "      <td>0.018550</td>\n",
       "      <td>0.585394</td>\n",
       "      <td>25000.0</td>\n",
       "      <td>14634.843824</td>\n",
       "      <td>0.018575</td>\n",
       "      <td>0.017126</td>\n",
       "      <td>5012.730752</td>\n",
       "    </tr>\n",
       "    <tr>\n",
       "      <th>58</th>\n",
       "      <td>59</td>\n",
       "      <td>29.5</td>\n",
       "      <td>0.018525</td>\n",
       "      <td>0.580438</td>\n",
       "      <td>25000.0</td>\n",
       "      <td>14510.952722</td>\n",
       "      <td>0.018550</td>\n",
       "      <td>0.017076</td>\n",
       "      <td>4955.794913</td>\n",
       "    </tr>\n",
       "    <tr>\n",
       "      <th>59</th>\n",
       "      <td>60</td>\n",
       "      <td>30.0</td>\n",
       "      <td>0.018500</td>\n",
       "      <td>0.575539</td>\n",
       "      <td>25000.0</td>\n",
       "      <td>14388.466955</td>\n",
       "      <td>0.018525</td>\n",
       "      <td>0.017026</td>\n",
       "      <td>4899.585405</td>\n",
       "    </tr>\n",
       "  </tbody>\n",
       "</table>\n",
       "</div>"
      ],
      "text/plain": [
       "    Period  Tenor      Rate  Discount factor  Fixed CF_FV   Fixed CF_PV  \\\n",
       "55      56   28.0  0.018600         0.595477      25000.0  14886.914925   \n",
       "56      57   28.5  0.018575         0.590406      25000.0  14760.158418   \n",
       "57      58   29.0  0.018550         0.585394      25000.0  14634.843824   \n",
       "58      59   29.5  0.018525         0.580438      25000.0  14510.952722   \n",
       "59      60   30.0  0.018500         0.575539      25000.0  14388.466955   \n",
       "\n",
       "    Rate_Shift  Forward Rate  Floating CF_PV  \n",
       "55    0.018625      0.017226     5128.823401  \n",
       "56    0.018600      0.017176     5070.403375  \n",
       "57    0.018575      0.017126     5012.730752  \n",
       "58    0.018550      0.017076     4955.794913  \n",
       "59    0.018525      0.017026     4899.585405  "
      ]
     },
     "execution_count": 19,
     "metadata": {},
     "output_type": "execute_result"
    }
   ],
   "source": [
    "#Calculating the valued of the future cash flows on the flowting leg and applyiing gisocutn factor straight away\n",
    "df['Floating CF_PV'] = (df['Forward Rate']*nominal/frequency)*df['Discount factor']\n",
    "df.tail(5)"
   ]
  },
  {
   "cell_type": "code",
   "execution_count": 20,
   "id": "1dcde5cb",
   "metadata": {},
   "outputs": [
    {
     "name": "stdout",
     "output_type": "stream",
     "text": [
      "744097.8238802409\n"
     ]
    }
   ],
   "source": [
    "#The Value of Vanilla plain swap\n",
    "PV = sum(df['Fixed CF_PV'])-sum(df['Floating CF_PV'])\n",
    "print(PV)"
   ]
  },
  {
   "cell_type": "code",
   "execution_count": null,
   "id": "fba6b9f1",
   "metadata": {},
   "outputs": [],
   "source": []
  }
 ],
 "metadata": {
  "hide_input": false,
  "kernelspec": {
   "display_name": "Python 3",
   "language": "python",
   "name": "python3"
  },
  "language_info": {
   "codemirror_mode": {
    "name": "ipython",
    "version": 3
   },
   "file_extension": ".py",
   "mimetype": "text/x-python",
   "name": "python",
   "nbconvert_exporter": "python",
   "pygments_lexer": "ipython3",
   "version": "3.9.4"
  },
  "toc": {
   "base_numbering": 1,
   "nav_menu": {},
   "number_sections": true,
   "sideBar": true,
   "skip_h1_title": false,
   "title_cell": "Table of Contents",
   "title_sidebar": "Contents",
   "toc_cell": true,
   "toc_position": {},
   "toc_section_display": true,
   "toc_window_display": false
  }
 },
 "nbformat": 4,
 "nbformat_minor": 5
}
